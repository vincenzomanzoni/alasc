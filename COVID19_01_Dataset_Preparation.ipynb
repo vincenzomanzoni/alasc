{
  "nbformat": 4,
  "nbformat_minor": 0,
  "metadata": {
    "colab": {
      "name": "COVID19 - 01 Dataset Preparation.ipynb",
      "provenance": [],
      "collapsed_sections": [],
      "authorship_tag": "ABX9TyMAkuwunOfWyH9KLQCJFml1"
    },
    "kernelspec": {
      "name": "python3",
      "display_name": "Python 3"
    }
  },
  "cells": [
    {
      "cell_type": "markdown",
      "metadata": {
        "id": "hXeqRE2F4CTZ",
        "colab_type": "text"
      },
      "source": [
        "## Missing packages installation"
      ]
    },
    {
      "cell_type": "code",
      "metadata": {
        "id": "ly4lYJIocIdr",
        "colab_type": "code",
        "colab": {}
      },
      "source": [
        "!apt-get install openjdk-8-jdk-headless -qq > /dev/null\n",
        "!wget -q https://archive.apache.org/dist/spark/spark-2.4.5/spark-2.4.5-bin-hadoop2.7.tgz\n",
        "!tar xf spark-2.4.5-bin-hadoop2.7.tgz && rm spark-2.4.5-bin-hadoop2.7.tgz\n",
        "!pip install -q findspark\n",
        "\n",
        "# To see the commands outputs for debugging purpose:\n",
        "#   - Remove -qq > /dev/null from apt-get\n",
        "#   - Remove -q from wget\n",
        "#   - Remove -q from pip"
      ],
      "execution_count": 0,
      "outputs": []
    },
    {
      "cell_type": "markdown",
      "metadata": {
        "id": "nixvsSoP4KXF",
        "colab_type": "text"
      },
      "source": [
        "## Environment Configuration"
      ]
    },
    {
      "cell_type": "markdown",
      "metadata": {
        "id": "jCLKTNpd4ZtA",
        "colab_type": "text"
      },
      "source": [
        "### Environment Variables"
      ]
    },
    {
      "cell_type": "code",
      "metadata": {
        "id": "hrEP46uQcJbm",
        "colab_type": "code",
        "colab": {}
      },
      "source": [
        "import os\n",
        "os.environ[\"JAVA_HOME\"] = \"/usr/lib/jvm/java-8-openjdk-amd64\"\n",
        "os.environ[\"SPARK_HOME\"] = \"/content/spark-2.4.5-bin-hadoop2.7\""
      ],
      "execution_count": 0,
      "outputs": []
    },
    {
      "cell_type": "markdown",
      "metadata": {
        "id": "6Uzyq2h44egP",
        "colab_type": "text"
      },
      "source": [
        "## Spark Configuration"
      ]
    },
    {
      "cell_type": "code",
      "metadata": {
        "id": "mn3Yb60wcLO4",
        "colab_type": "code",
        "colab": {}
      },
      "source": [
        "import findspark\n",
        "\n",
        "from pyspark.sql import SparkSession\n",
        "from pyspark.sql.functions import *\n",
        "\n",
        "findspark.init()\n",
        "\n",
        "spark = SparkSession.builder.master(\"local[*]\").getOrCreate()\n",
        "sc = spark.sparkContext"
      ],
      "execution_count": 0,
      "outputs": []
    },
    {
      "cell_type": "markdown",
      "metadata": {
        "id": "fRKT-QMF4k8A",
        "colab_type": "text"
      },
      "source": [
        "## Playground"
      ]
    },
    {
      "cell_type": "code",
      "metadata": {
        "id": "0x-MeIfKickj",
        "colab_type": "code",
        "colab": {}
      },
      "source": [
        "!mkdir -p Datasets/\n",
        "!wget -q -O Datasets/dpc-covid19-ita-regioni.csv https://raw.githubusercontent.com/pcm-dpc/COVID-19/master/dati-regioni/dpc-covid19-ita-regioni.csv\n",
        "!wget -q -O Datasets/popolazione.csv https://raw.githubusercontent.com/vincenzomanzoni/covid19-curated-dataset/master/datasets/support/popolazione.csv\n",
        "!wget -q -O Datasets/time_series_19-covid-Confirmed.csv https://raw.githubusercontent.com/CSSEGISandData/COVID-19/master/csse_covid_19_data/csse_covid_19_time_series/time_series_19-covid-Confirmed.csv"
      ],
      "execution_count": 0,
      "outputs": []
    },
    {
      "cell_type": "code",
      "metadata": {
        "id": "Yt7ThzjWGzUA",
        "colab_type": "code",
        "colab": {}
      },
      "source": [
        "df_regioni_github = spark.read.csv('Datasets/dpc-covid19-ita-regioni.csv', inferSchema=True, header=True)\n",
        "df_popolazione = spark.read.csv('Datasets/popolazione.csv', inferSchema=True, header=True, sep='\\t')\n",
        "df_global_confirmed = spark.read.csv('Datasets/time_series_19-covid-Confirmed.csv', inferSchema=True, header=True)"
      ],
      "execution_count": 0,
      "outputs": []
    },
    {
      "cell_type": "code",
      "metadata": {
        "id": "Pah1_eRBjnmM",
        "colab_type": "code",
        "colab": {}
      },
      "source": [
        "df_italia = df_regioni_github.groupBy(\"data\").agg(\n",
        "      sum(\"ricoverati_con_sintomi\").alias(\"ricoverati_con_sintomi\"),\n",
        "      sum(\"terapia_intensiva\").alias(\"terapia_intensiva\"),\n",
        "      sum(\"totale_ospedalizzati\").alias(\"totale_ospedalizzati\"),\n",
        "      sum(\"isolamento_domiciliare\").alias(\"isolamento_domiciliare\"),\n",
        "      sum(\"totale_attualmente_positivi\").alias(\"totale_attualmente_positivi\"),\n",
        "      sum(\"nuovi_attualmente_positivi\").alias(\"nuovi_attualmente_positivi\"),\n",
        "      sum(\"dimessi_guariti\").alias(\"dimessi_guariti\"),\n",
        "      sum(\"deceduti\").alias(\"deceduti\"),\n",
        "      sum(\"totale_casi\").alias(\"totale_casi\"),\n",
        "      sum(\"tamponi\").alias(\"tamponi\")).withColumn(\"denominazione_regione\", lit(\"Italia\"))\n",
        "\n",
        "df_italia = df_italia.select(\"data\", \n",
        "                     \"denominazione_regione\", \n",
        "                     \"ricoverati_con_sintomi\",\n",
        "                     \"terapia_intensiva\",\n",
        "                     \"totale_ospedalizzati\",\n",
        "                     \"isolamento_domiciliare\",\n",
        "                     \"totale_attualmente_positivi\",\n",
        "                     \"nuovi_attualmente_positivi\",\n",
        "                     \"dimessi_guariti\",\n",
        "                     \"deceduti\",\n",
        "                     \"totale_casi\",\n",
        "                     \"tamponi\").orderBy(\"data\")"
      ],
      "execution_count": 0,
      "outputs": []
    },
    {
      "cell_type": "code",
      "metadata": {
        "id": "UFfQtS3bmUVA",
        "colab_type": "code",
        "colab": {}
      },
      "source": [
        "df_regioni_tranne_trentino_alto_adige = df_regioni_github.select(\"data\", \n",
        "                     \"denominazione_regione\", \n",
        "                     \"ricoverati_con_sintomi\",\n",
        "                     \"terapia_intensiva\",\n",
        "                     \"totale_ospedalizzati\",\n",
        "                     \"isolamento_domiciliare\",\n",
        "                     \"totale_attualmente_positivi\",\n",
        "                     \"nuovi_attualmente_positivi\",\n",
        "                     \"dimessi_guariti\",\n",
        "                     \"deceduti\",\n",
        "                     \"totale_casi\",\n",
        "                     \"tamponi\").where(\"denominazione_regione NOT IN ('P.A. Bolzano', 'P.A. Trento')\")                    "
      ],
      "execution_count": 0,
      "outputs": []
    },
    {
      "cell_type": "code",
      "metadata": {
        "id": "46UwGzAEpiO2",
        "colab_type": "code",
        "colab": {}
      },
      "source": [
        "df_regioni_trentino_alto_adige = df_regioni_github.where(\"denominazione_regione IN ('P.A. Bolzanoni', 'P.A. Trento')\")\n",
        "df_regioni_trentino_alto_adige = df_regioni_trentino_alto_adige.groupBy(\"data\").agg(\n",
        "      sum(\"ricoverati_con_sintomi\").alias(\"ricoverati_con_sintomi\"),\n",
        "      sum(\"terapia_intensiva\").alias(\"terapia_intensiva\"),\n",
        "      sum(\"totale_ospedalizzati\").alias(\"totale_ospedalizzati\"),\n",
        "      sum(\"isolamento_domiciliare\").alias(\"isolamento_domiciliare\"),\n",
        "      sum(\"totale_attualmente_positivi\").alias(\"totale_attualmente_positivi\"),\n",
        "      sum(\"nuovi_attualmente_positivi\").alias(\"nuovi_attualmente_positivi\"),\n",
        "      sum(\"dimessi_guariti\").alias(\"dimessi_guariti\"),\n",
        "      sum(\"deceduti\").alias(\"deceduti\"),\n",
        "      sum(\"totale_casi\").alias(\"totale_casi\"),\n",
        "      sum(\"tamponi\").alias(\"tamponi\")).withColumn(\"denominazione_regione\", lit(\"Trentino-Alto Adige\"))\n",
        "\n",
        "df_regioni_trentino_alto_adige = df_regioni_trentino_alto_adige.select(\"data\", \n",
        "                     \"denominazione_regione\", \n",
        "                     \"ricoverati_con_sintomi\",\n",
        "                     \"terapia_intensiva\",\n",
        "                     \"totale_ospedalizzati\",\n",
        "                     \"isolamento_domiciliare\",\n",
        "                     \"totale_attualmente_positivi\",\n",
        "                     \"nuovi_attualmente_positivi\",\n",
        "                     \"dimessi_guariti\",\n",
        "                     \"deceduti\",\n",
        "                     \"totale_casi\",\n",
        "                     \"tamponi\")"
      ],
      "execution_count": 0,
      "outputs": []
    },
    {
      "cell_type": "code",
      "metadata": {
        "id": "OGTsbg1QrUf1",
        "colab_type": "code",
        "colab": {}
      },
      "source": [
        "df_regioni_italia = df_italia.unionAll(df_regioni_trentino_alto_adige).unionAll(df_regioni_tranne_trentino_alto_adige).orderBy(\"data\", \"denominazione_regione\")"
      ],
      "execution_count": 0,
      "outputs": []
    },
    {
      "cell_type": "code",
      "metadata": {
        "id": "Lz_9hwN3r0EL",
        "colab_type": "code",
        "colab": {
          "base_uri": "https://localhost:8080/",
          "height": 479
        },
        "outputId": "1ba2eb88-4990-4095-d277-fed8e447a084"
      },
      "source": [
        "df_regioni_italia.show()"
      ],
      "execution_count": 14,
      "outputs": [
        {
          "output_type": "stream",
          "text": [
            "+-------------------+---------------------+----------------------+-----------------+--------------------+----------------------+---------------------------+--------------------------+---------------+--------+-----------+-------+\n",
            "|               data|denominazione_regione|ricoverati_con_sintomi|terapia_intensiva|totale_ospedalizzati|isolamento_domiciliare|totale_attualmente_positivi|nuovi_attualmente_positivi|dimessi_guariti|deceduti|totale_casi|tamponi|\n",
            "+-------------------+---------------------+----------------------+-----------------+--------------------+----------------------+---------------------------+--------------------------+---------------+--------+-----------+-------+\n",
            "|2020-02-24 18:00:00|              Abruzzo|                     0|                0|                   0|                     0|                          0|                         0|              0|       0|          0|      5|\n",
            "|2020-02-24 18:00:00|           Basilicata|                     0|                0|                   0|                     0|                          0|                         0|              0|       0|          0|      0|\n",
            "|2020-02-24 18:00:00|             Calabria|                     0|                0|                   0|                     0|                          0|                         0|              0|       0|          0|      1|\n",
            "|2020-02-24 18:00:00|             Campania|                     0|                0|                   0|                     0|                          0|                         0|              0|       0|          0|     10|\n",
            "|2020-02-24 18:00:00|       Emilia Romagna|                    10|                2|                  12|                     6|                         18|                        18|              0|       0|         18|    148|\n",
            "|2020-02-24 18:00:00| Friuli Venezia Gi...|                     0|                0|                   0|                     0|                          0|                         0|              0|       0|          0|     58|\n",
            "|2020-02-24 18:00:00|               Italia|                   101|               26|                 127|                    94|                        221|                       221|              1|       7|        229|   4324|\n",
            "|2020-02-24 18:00:00|                Lazio|                     1|                1|                   2|                     0|                          2|                         2|              1|       0|          3|    124|\n",
            "|2020-02-24 18:00:00|              Liguria|                     0|                0|                   0|                     0|                          0|                         0|              0|       0|          0|      1|\n",
            "|2020-02-24 18:00:00|            Lombardia|                    76|               19|                  95|                    71|                        166|                       166|              0|       6|        172|   1463|\n",
            "|2020-02-24 18:00:00|               Marche|                     0|                0|                   0|                     0|                          0|                         0|              0|       0|          0|     16|\n",
            "|2020-02-24 18:00:00|               Molise|                     0|                0|                   0|                     0|                          0|                         0|              0|       0|          0|      0|\n",
            "|2020-02-24 18:00:00|             Piemonte|                     2|                0|                   2|                     1|                          3|                         3|              0|       0|          3|    141|\n",
            "|2020-02-24 18:00:00|               Puglia|                     0|                0|                   0|                     0|                          0|                         0|              0|       0|          0|      0|\n",
            "|2020-02-24 18:00:00|             Sardegna|                     0|                0|                   0|                     0|                          0|                         0|              0|       0|          0|      1|\n",
            "|2020-02-24 18:00:00|              Sicilia|                     0|                0|                   0|                     0|                          0|                         0|              0|       0|          0|      5|\n",
            "|2020-02-24 18:00:00|              Toscana|                     0|                0|                   0|                     0|                          0|                         0|              0|       0|          0|    140|\n",
            "|2020-02-24 18:00:00|  Trentino-Alto Adige|                     0|                0|                   0|                     0|                          0|                         0|              0|       0|          0|      3|\n",
            "|2020-02-24 18:00:00|               Umbria|                     0|                0|                   0|                     0|                          0|                         0|              0|       0|          0|      0|\n",
            "|2020-02-24 18:00:00|        Valle d'Aosta|                     0|                0|                   0|                     0|                          0|                         0|              0|       0|          0|      7|\n",
            "+-------------------+---------------------+----------------------+-----------------+--------------------+----------------------+---------------------------+--------------------------+---------------+--------+-----------+-------+\n",
            "only showing top 20 rows\n",
            "\n"
          ],
          "name": "stdout"
        }
      ]
    },
    {
      "cell_type": "code",
      "metadata": {
        "id": "s8J2FQnLP5sI",
        "colab_type": "code",
        "colab": {
          "base_uri": "https://localhost:8080/",
          "height": 459
        },
        "outputId": "0325f18a-6e79-424a-dd84-9d4a76afb2c5"
      },
      "source": [
        ""
      ],
      "execution_count": 20,
      "outputs": [
        {
          "output_type": "stream",
          "text": [
            "+--------------------+-----------+----------+-------+-------------+---------------+\n",
            "|                Area|Popolazione|Superficie|Densita|Numero Comuni|Numero Province|\n",
            "+--------------------+-----------+----------+-------+-------------+---------------+\n",
            "|           Lombardia|   10060574|     23864|    422|         1506|             12|\n",
            "|               Lazio|    5879082|     17232|    341|          378|              5|\n",
            "|            Campania|    5801692|     13671|    424|          550|              5|\n",
            "|             Sicilia|    4999891|     25832|    194|          390|              9|\n",
            "|              Veneto|    4905854|     18345|    267|          563|              7|\n",
            "|      Emilia Romagna|    4459477|     22453|    199|          328|              9|\n",
            "|            Piemonte|    4356406|     25387|    172|         1181|              8|\n",
            "|              Puglia|    4029053|     19541|    206|          257|              6|\n",
            "|             Toscana|    3729641|     22987|    162|          273|             10|\n",
            "|            Calabria|    1947131|     15222|    128|          404|              5|\n",
            "|            Sardegna|    1639591|     24100|     68|          377|              5|\n",
            "|             Liguria|    1550640|      5416|    286|          234|              4|\n",
            "|              Marche|    1525271|      9401|    162|          228|              5|\n",
            "|             Abruzzo|    1311580|     10832|    121|          305|              4|\n",
            "|Friuli Venezia Gi...|    1215220|      7924|    153|          215|              4|\n",
            "| Trentino-Alto Adige|    1072276|     13606|     79|          282|              2|\n",
            "|              Umbria|     882015|      8464|    104|           92|              2|\n",
            "|          Basilicata|     562869|     10073|     56|          131|              2|\n",
            "|              Molise|     305617|      4461|     69|          136|              2|\n",
            "|       Valle d'Aosta|     125666|      3261|     39|           74|              1|\n",
            "+--------------------+-----------+----------+-------+-------------+---------------+\n",
            "only showing top 20 rows\n",
            "\n"
          ],
          "name": "stdout"
        }
      ]
    },
    {
      "cell_type": "code",
      "metadata": {
        "id": "2fAkGaZMQN4a",
        "colab_type": "code",
        "colab": {
          "base_uri": "https://localhost:8080/",
          "height": 80
        },
        "outputId": "dc954c5d-a244-4f5d-fdbc-596067d64a86"
      },
      "source": [
        "import pandas as pd\n",
        "df = df_global_confirmed.select(\"`Country/Region`\", '3/4/20', '3/5/20', '3/6/20') \\\n",
        "  .where(\"`Country/Region` = 'Argentina'\").toPandas()\n",
        "df"
      ],
      "execution_count": 63,
      "outputs": [
        {
          "output_type": "execute_result",
          "data": {
            "text/html": [
              "<div>\n",
              "<style scoped>\n",
              "    .dataframe tbody tr th:only-of-type {\n",
              "        vertical-align: middle;\n",
              "    }\n",
              "\n",
              "    .dataframe tbody tr th {\n",
              "        vertical-align: top;\n",
              "    }\n",
              "\n",
              "    .dataframe thead th {\n",
              "        text-align: right;\n",
              "    }\n",
              "</style>\n",
              "<table border=\"1\" class=\"dataframe\">\n",
              "  <thead>\n",
              "    <tr style=\"text-align: right;\">\n",
              "      <th></th>\n",
              "      <th>Country/Region</th>\n",
              "      <th>3/4/20</th>\n",
              "      <th>3/5/20</th>\n",
              "      <th>3/6/20</th>\n",
              "    </tr>\n",
              "  </thead>\n",
              "  <tbody>\n",
              "    <tr>\n",
              "      <th>0</th>\n",
              "      <td>Argentina</td>\n",
              "      <td>1</td>\n",
              "      <td>1</td>\n",
              "      <td>2</td>\n",
              "    </tr>\n",
              "  </tbody>\n",
              "</table>\n",
              "</div>"
            ],
            "text/plain": [
              "  Country/Region  3/4/20  3/5/20  3/6/20\n",
              "0      Argentina       1       1       2"
            ]
          },
          "metadata": {
            "tags": []
          },
          "execution_count": 63
        }
      ]
    },
    {
      "cell_type": "code",
      "metadata": {
        "id": "a8MNePlVbXz0",
        "colab_type": "code",
        "colab": {}
      },
      "source": [
        "df1 = pd.melt(df, id_vars=[\"Country/Region\"], value_vars=['3/4/20', '3/5/20', '3/6/20'])"
      ],
      "execution_count": 0,
      "outputs": []
    },
    {
      "cell_type": "code",
      "metadata": {
        "id": "CNgrDvfCedYA",
        "colab_type": "code",
        "colab": {
          "base_uri": "https://localhost:8080/",
          "height": 153
        },
        "outputId": "7192e359-6a57-44fe-e4bd-f8c262edd9d6"
      },
      "source": [
        "from pyspark import SparkContext, SQLContext\n",
        "sql = SQLContext(sc)\n",
        "sql.createDataFrame(df1).show()"
      ],
      "execution_count": 69,
      "outputs": [
        {
          "output_type": "stream",
          "text": [
            "+--------------+--------+-----+\n",
            "|Country/Region|variable|value|\n",
            "+--------------+--------+-----+\n",
            "|     Argentina|  3/4/20|    1|\n",
            "|     Argentina|  3/5/20|    1|\n",
            "|     Argentina|  3/6/20|    2|\n",
            "+--------------+--------+-----+\n",
            "\n"
          ],
          "name": "stdout"
        }
      ]
    },
    {
      "cell_type": "code",
      "metadata": {
        "id": "fBSbo94yeHkW",
        "colab_type": "code",
        "colab": {}
      },
      "source": [
        ""
      ],
      "execution_count": 0,
      "outputs": []
    }
  ]
}